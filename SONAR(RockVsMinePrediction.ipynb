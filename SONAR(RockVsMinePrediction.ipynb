{
 "cells": [
  {
   "cell_type": "markdown",
   "metadata": {
    "id": "a4flTcpfBKyM"
   },
   "source": [
    "# Sonar (Rock vs Mine prediction)\n",
    "  --> it is a binary classification problem\n",
    "\n",
    "Dataset used : sonar.csv\n",
    "\n",
    "Model used : Logistic Regression\n",
    "\n",
    "Accuracy obtained : 0.76\n",
    "\n",
    "# Steps\n",
    "\n",
    "1. Sonar Data\n",
    "2. Data Preprocessing\n",
    "3. Train Test split\n",
    "4. Logistic regression Model (Best for binary classification problem)\n",
    "5. trained logistic regression model\n",
    "6. provide new data for prediction"
   ]
  },
  {
   "cell_type": "code",
   "execution_count": null,
   "metadata": {
    "id": "ZwjASbwIBAaH"
   },
   "outputs": [],
   "source": [
    "import pandas as pd\n",
    "import numpy as np\n",
    "from sklearn.model_selection import train_test_split\n",
    "from sklearn.linear_model import LogisticRegression\n",
    "from sklearn.metrics import accuracy_score"
   ]
  },
  {
   "cell_type": "code",
   "execution_count": null,
   "metadata": {
    "id": "tZhMBCjjUrjv"
   },
   "outputs": [],
   "source": [
    "# Data Collection and data processing\n",
    "sonardf = pd.read_csv('Datasets/sonar.csv',header = None)\n",
    "print(sonardf.head())"
   ]
  },
  {
   "cell_type": "code",
   "execution_count": null,
   "metadata": {
    "id": "QQOCqFYnU0U1"
   },
   "outputs": [],
   "source": [
    "sonardf.shape"
   ]
  },
  {
   "cell_type": "code",
   "execution_count": null,
   "metadata": {
    "id": "537umNIQVJ1D"
   },
   "outputs": [],
   "source": [
    "sonardf[60].value_counts()"
   ]
  },
  {
   "cell_type": "code",
   "execution_count": null,
   "metadata": {
    "id": "3JFNnw3MVQk-"
   },
   "outputs": [],
   "source": [
    "sonardf.describe()"
   ]
  },
  {
   "cell_type": "code",
   "execution_count": null,
   "metadata": {
    "id": "vkAD6UPHValr"
   },
   "outputs": [],
   "source": [
    "sonardf.groupby(60).mean()"
   ]
  },
  {
   "cell_type": "code",
   "execution_count": null,
   "metadata": {
    "id": "1x4PilzyVruI"
   },
   "outputs": [],
   "source": [
    "X = sonardf.drop(columns=60,axis=1)\n",
    "Y = sonardf[60]\n",
    "print(X)\n",
    "print(Y)"
   ]
  },
  {
   "cell_type": "code",
   "execution_count": null,
   "metadata": {
    "id": "eIC1ECN-V2ks"
   },
   "outputs": [],
   "source": [
    "# splitting the data into train and test set\n",
    "X_train,X_test,Y_train,Y_test = train_test_split(X,Y,test_size=0.1,stratify=Y,random_state=1)\n",
    "print(X.shape,X_train.shape,X_test.shape)"
   ]
  },
  {
   "cell_type": "code",
   "execution_count": null,
   "metadata": {
    "id": "jASWS1F9WqiV"
   },
   "outputs": [],
   "source": [
    "# Model Training using logistic regression model\n",
    "model = LogisticRegression()      # Loading the logistic regression\n",
    "model.fit(X_train,Y_train)        # training the model"
   ]
  },
  {
   "cell_type": "code",
   "execution_count": null,
   "metadata": {
    "id": "DHpi0RQYXALa"
   },
   "outputs": [],
   "source": [
    "# Model Evaluation\n",
    "\n",
    "# accuracy on the training data\n",
    "X_train_prediction = model.predict(X_train)\n",
    "training_data_accuracy = accuracy_score(X_train_prediction,Y_train)\n",
    "print('Accuracy on training data : ',training_data_accuracy)\n",
    "\n",
    "# Accuracy on test data\n",
    "X_test_prediction = model.predict(X_test)\n",
    "test_data_accuracy = accuracy_score(X_test_prediction,Y_test)\n",
    "print('Accuracy on test data : ',test_data_accuracy)"
   ]
  },
  {
   "cell_type": "code",
   "execution_count": null,
   "metadata": {
    "id": "ekQUIlQfXeTZ"
   },
   "outputs": [],
   "source": [
    "# Making a predictive system\n",
    "input_data = (0.0201,0.0026,0.0138,0.0062,0.0133,0.0151,0.0541,0.0210,0.0505,0.1097,0.0841,0.0942,0.1204,0.0420,0.0031,0.0162,0.0624,0.2127,0.3436,0.3813,0.3825,0.4764,0.6313,0.7523,0.8675,0.8788,0.7901,0.8357,0.9631,0.9619,0.9236,0.8903,0.9708,0.9647,0.7892,0.5307,0.2718,0.1953,0.1374,0.3105,0.3790,0.4105,0.3355,0.2998,0.2748,0.2024,0.1043,0.0453,0.0337,0.0122,0.0072,0.0108,0.0070,0.0063,0.0030,0.0011,0.0007,0.0024,0.0057,0.0044)\n",
    "input_array = np.asarray(input_data)\n",
    "inputarr_reshaped = input_array.reshape(1,-1)\n",
    "prediction = model.predict(inputarr_reshaped)\n",
    "print(prediction)"
   ]
  },
  {
   "cell_type": "code",
   "execution_count": null,
   "metadata": {
    "id": "YOdkO91b9SgD"
   },
   "outputs": [],
   "source": []
  }
 ],
 "metadata": {
  "colab": {
   "authorship_tag": "ABX9TyN3c4biDqDP5aw/7TMRHKe9",
   "provenance": []
  },
  "kernelspec": {
   "display_name": "Python 3",
   "name": "python3"
  },
  "language_info": {
   "codemirror_mode": {
    "name": "ipython",
    "version": 3
   },
   "file_extension": ".py",
   "mimetype": "text/x-python",
   "name": "python",
   "nbconvert_exporter": "python",
   "pygments_lexer": "ipython3",
   "version": "3.13.7"
  }
 },
 "nbformat": 4,
 "nbformat_minor": 0
}
