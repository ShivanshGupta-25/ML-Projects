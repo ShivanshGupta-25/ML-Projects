{
 "cells": [
  {
   "cell_type": "markdown",
   "metadata": {
    "id": "aVuU9U1qHshK"
   },
   "source": [
    "# Diabetes prediction for patient\n",
    "\n",
    "dataset used : diabetes.csv\n",
    "\n",
    "model used : SVM\n",
    "\n",
    "accuracy obtained : 0.78\n",
    "\n",
    "# Steps\n",
    "\n",
    "1. Diabetes Data\n",
    "2. Data Preprocessing\n",
    "3. Train Test Split\n",
    "4. Support Vector Machine Classifier\n",
    "5. New Data for Testing and Prediction"
   ]
  },
  {
   "cell_type": "code",
   "execution_count": null,
   "metadata": {
    "id": "jjkaDtUIL6B6"
   },
   "outputs": [],
   "source": [
    "# Importing the dependencies\n",
    "import numpy as np\n",
    "import pandas as pd\n",
    "from sklearn.preprocessing import StandardScaler\n",
    "from sklearn.model_selection import train_test_split\n",
    "from sklearn import svm\n",
    "from sklearn.metrics import accuracy_score"
   ]
  },
  {
   "cell_type": "code",
   "execution_count": null,
   "metadata": {
    "id": "8r7jRNtnIf9-"
   },
   "outputs": [],
   "source": [
    "# Datacollection and analysis (PIMA Diabetes)\n",
    "df = pd.read_csv('Datasets/diabetes.csv')\n",
    "df.head()"
   ]
  },
  {
   "cell_type": "code",
   "execution_count": null,
   "metadata": {
    "id": "K0QaqQrkJlCX"
   },
   "outputs": [],
   "source": [
    "print(df.shape)\n",
    "print(df.describe())"
   ]
  },
  {
   "cell_type": "code",
   "execution_count": null,
   "metadata": {
    "id": "mrgF-Lq6J2iu"
   },
   "outputs": [],
   "source": [
    "df['Outcome'].value_counts()\n",
    "# 0 --> Non diabetic\n",
    "# 1 --> Diabetic"
   ]
  },
  {
   "cell_type": "code",
   "execution_count": null,
   "metadata": {
    "id": "hr_3b6IxKAXX"
   },
   "outputs": [],
   "source": [
    "df.groupby('Outcome').mean()"
   ]
  },
  {
   "cell_type": "code",
   "execution_count": null,
   "metadata": {
    "colab": {
     "base_uri": "https://localhost:8080/"
    },
    "executionInfo": {
     "elapsed": 45,
     "status": "ok",
     "timestamp": 1759513678943,
     "user": {
      "displayName": "Code conqueror",
      "userId": "10423855408337879325"
     },
     "user_tz": -330
    },
    "id": "a3W0fDyIKOuE",
    "outputId": "319e57b7-faaa-400c-cf4a-37e901d2159f"
   },
   "outputs": [],
   "source": [
    "# Seperating the dataset into data and labels\n",
    "X = df.drop(columns = 'Outcome', axis = 1)\n",
    "Y = df['Outcome']\n",
    "print(X)\n",
    "print(Y)"
   ]
  },
  {
   "cell_type": "code",
   "execution_count": null,
   "metadata": {
    "colab": {
     "base_uri": "https://localhost:8080/"
    },
    "executionInfo": {
     "elapsed": 14,
     "status": "ok",
     "timestamp": 1759513765934,
     "user": {
      "displayName": "Code conqueror",
      "userId": "10423855408337879325"
     },
     "user_tz": -330
    },
    "id": "wD7IyBQ_Kjyj",
    "outputId": "28ed5c68-1e06-4424-bcfc-19681436d75b"
   },
   "outputs": [],
   "source": [
    "# Data Standradizatino\n",
    "scalar = StandardScaler()\n",
    "scalar.fit(X)\n",
    "standradized_data = scalar.transform(X)\n",
    "print(standradized_data)"
   ]
  },
  {
   "cell_type": "code",
   "execution_count": null,
   "metadata": {
    "colab": {
     "base_uri": "https://localhost:8080/"
    },
    "executionInfo": {
     "elapsed": 14,
     "status": "ok",
     "timestamp": 1759513790137,
     "user": {
      "displayName": "Code conqueror",
      "userId": "10423855408337879325"
     },
     "user_tz": -330
    },
    "id": "yWVpITu5MUjm",
    "outputId": "2fcc3c2c-9eb1-421c-d48e-d4655a8fad3b"
   },
   "outputs": [],
   "source": [
    "X = standradized_data\n",
    "Y = df['Outcome']\n",
    "print(X)\n",
    "print(Y)"
   ]
  },
  {
   "cell_type": "code",
   "execution_count": null,
   "metadata": {
    "colab": {
     "base_uri": "https://localhost:8080/"
    },
    "executionInfo": {
     "elapsed": 15,
     "status": "ok",
     "timestamp": 1759513844532,
     "user": {
      "displayName": "Code conqueror",
      "userId": "10423855408337879325"
     },
     "user_tz": -330
    },
    "id": "QfMUWgNHMcVa",
    "outputId": "ef8b5e10-7cf9-4555-ee32-992ccea41cbc"
   },
   "outputs": [],
   "source": [
    "# Splitting the train_test set\n",
    "X_train, X_test, Y_train, Y_test = train_test_split(X, Y, test_size = 0.1, stratify = Y, random_state = 2)\n",
    "print(X.shape, X_train.shape, X_test.shape)"
   ]
  },
  {
   "cell_type": "code",
   "execution_count": null,
   "metadata": {
    "colab": {
     "base_uri": "https://localhost:8080/",
     "height": 80
    },
    "executionInfo": {
     "elapsed": 74,
     "status": "ok",
     "timestamp": 1759513957300,
     "user": {
      "displayName": "Code conqueror",
      "userId": "10423855408337879325"
     },
     "user_tz": -330
    },
    "id": "dz9txRNcMoRH",
    "outputId": "eab54fb1-3096-41cd-eb5a-e40d50f2ad42"
   },
   "outputs": [],
   "source": [
    "# Training the data\n",
    "classifer = svm.SVC(kernel = 'linear')\n",
    "classifer.fit(X_train, Y_train)"
   ]
  },
  {
   "cell_type": "code",
   "execution_count": null,
   "metadata": {
    "colab": {
     "base_uri": "https://localhost:8080/"
    },
    "executionInfo": {
     "elapsed": 20,
     "status": "ok",
     "timestamp": 1759514054741,
     "user": {
      "displayName": "Code conqueror",
      "userId": "10423855408337879325"
     },
     "user_tz": -330
    },
    "id": "u82glFzSNDBh",
    "outputId": "8fb165b8-4dfb-4f83-a15f-9668a4e0dc69"
   },
   "outputs": [],
   "source": [
    "# Evaluating the model\n",
    "\n",
    "# Getting the accuracy score\n",
    "X_train_prediction = classifer.predict(X_train)\n",
    "training_data_accuracy = accuracy_score(X_train_prediction, Y_train)\n",
    "print('Accuracy score of the training data : ', training_data_accuracy)\n",
    "\n",
    "# Getting the accuracy score on test data\n",
    "X_test_prediction = classifer.predict(X_test)\n",
    "test_data_accuracy = accuracy_score(X_test_prediction, Y_test)\n",
    "print('Accuracy score of the test data : ', test_data_accuracy)"
   ]
  },
  {
   "cell_type": "code",
   "execution_count": null,
   "metadata": {
    "colab": {
     "base_uri": "https://localhost:8080/"
    },
    "executionInfo": {
     "elapsed": 45,
     "status": "ok",
     "timestamp": 1759514371575,
     "user": {
      "displayName": "Code conqueror",
      "userId": "10423855408337879325"
     },
     "user_tz": -330
    },
    "id": "fSRqKCgINNla",
    "outputId": "6a3f2356-dd09-4b7a-fa8c-e811a9030975"
   },
   "outputs": [],
   "source": [
    "# Making a predictive system\n",
    "input_data = (1,189,60,23,846,30.1,0.398,59)\n",
    "# changing the input data into numpy array\n",
    "input_arr = np.asarray(input_data)\n",
    "reshape_arr = input_arr.reshape(1,-1)\n",
    "\n",
    "# strandradize the input data\n",
    "std_data = scalar.transform(reshape_arr)\n",
    "print(std_data)\n",
    "\n",
    "prediction = classifer.predict(std_data)\n",
    "print(prediction)\n",
    "\n",
    "if prediction[0] == 0:\n",
    "  print('The person is not diabetic')\n",
    "else:\n",
    "  print('The person is diabetic')"
   ]
  },
  {
   "cell_type": "code",
   "execution_count": null,
   "metadata": {
    "id": "no3nWLbdOlMc"
   },
   "outputs": [],
   "source": []
  }
 ],
 "metadata": {
  "colab": {
   "authorship_tag": "ABX9TyMD7MAx92Q6byfZgVFNqzHG",
   "provenance": []
  },
  "kernelspec": {
   "display_name": "Python 3",
   "name": "python3"
  },
  "language_info": {
   "codemirror_mode": {
    "name": "ipython",
    "version": 3
   },
   "file_extension": ".py",
   "mimetype": "text/x-python",
   "name": "python",
   "nbconvert_exporter": "python",
   "pygments_lexer": "ipython3",
   "version": "3.13.7"
  }
 },
 "nbformat": 4,
 "nbformat_minor": 0
}
