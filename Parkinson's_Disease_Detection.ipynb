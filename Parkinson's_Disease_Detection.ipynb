{
  "cells": [
    {
      "cell_type": "markdown",
      "metadata": {},
      "source": [
        "# Parkinson's Disease Detection\n",
        "\n",
        "Dataset used : Datasets\\Parkinsson disease.csv\n",
        "\n",
        "Model Used : SVM"
      ]
    },
    {
      "cell_type": "markdown",
      "metadata": {
        "id": "9B5Zl1UOBMAJ"
      },
      "source": [
        "Importing the Dependencies"
      ]
    },
    {
      "cell_type": "code",
      "execution_count": null,
      "metadata": {
        "id": "YOCpZ1Vm6cfW"
      },
      "outputs": [],
      "source": [
        "import numpy as np\n",
        "import pandas as pd\n",
        "from sklearn.model_selection import train_test_split\n",
        "from sklearn.preprocessing import StandardScaler\n",
        "from sklearn import svm\n",
        "from sklearn.metrics import accuracy_score"
      ]
    },
    {
      "cell_type": "markdown",
      "metadata": {
        "id": "PZm-USrtB_q4"
      },
      "source": [
        "Data Collection & Analysis"
      ]
    },
    {
      "cell_type": "code",
      "execution_count": null,
      "metadata": {
        "id": "5YC2lGuVBiZA"
      },
      "outputs": [],
      "source": [
        "# loading the data from csv file to a Pandas DataFrame\n",
        "parkinsons_data = pd.read_csv('Datasets\\Parkinsson disease.csv')"
      ]
    },
    {
      "cell_type": "code",
      "execution_count": null,
      "metadata": {
        "colab": {
          "base_uri": "https://localhost:8080/",
          "height": 216
        },
        "id": "Iw8z6w60Djd2",
        "outputId": "7c38d6f8-9794-42ee-c546-a3c479d442a1"
      },
      "outputs": [],
      "source": [
        "# printing the first 5 rows of the dataframe\n",
        "parkinsons_data.head()"
      ]
    },
    {
      "cell_type": "code",
      "execution_count": null,
      "metadata": {
        "colab": {
          "base_uri": "https://localhost:8080/"
        },
        "id": "cK7L_o2TDuZb",
        "outputId": "bc2d89a6-5979-41cd-bded-0b0ee44f0008"
      },
      "outputs": [],
      "source": [
        "# number of rows and columns in the dataframe\n",
        "parkinsons_data.shape"
      ]
    },
    {
      "cell_type": "code",
      "execution_count": null,
      "metadata": {
        "colab": {
          "base_uri": "https://localhost:8080/"
        },
        "id": "NLmzHIgnEGi4",
        "outputId": "80d5c4e1-8ae7-4686-b26f-ba73eb8f499d"
      },
      "outputs": [],
      "source": [
        "# getting more information about the dataset\n",
        "parkinsons_data.info()"
      ]
    },
    {
      "cell_type": "code",
      "execution_count": null,
      "metadata": {
        "colab": {
          "base_uri": "https://localhost:8080/"
        },
        "id": "70rgu_k4ET9F",
        "outputId": "bdbf9fe7-a6cb-4389-dee4-e69b8afb1932"
      },
      "outputs": [],
      "source": [
        "# checking for missing values in each column\n",
        "parkinsons_data.isnull().sum()"
      ]
    },
    {
      "cell_type": "code",
      "execution_count": null,
      "metadata": {
        "colab": {
          "base_uri": "https://localhost:8080/",
          "height": 306
        },
        "id": "1AxFu0-nEhSA",
        "outputId": "ac7e78a5-45ad-4e2a-e0fc-89c90367d5fe"
      },
      "outputs": [],
      "source": [
        "# getting some statistical measures about the data\n",
        "parkinsons_data.describe()"
      ]
    },
    {
      "cell_type": "code",
      "execution_count": null,
      "metadata": {
        "colab": {
          "base_uri": "https://localhost:8080/"
        },
        "id": "3O8AclzwExyH",
        "outputId": "b63cd18d-477c-4f09-877c-93242e082cf2"
      },
      "outputs": [],
      "source": [
        "# distribution of target Variable\n",
        "parkinsons_data['status'].value_counts()"
      ]
    },
    {
      "cell_type": "markdown",
      "metadata": {
        "id": "L1srlxtEFYfN"
      },
      "source": [
        "1  --> Parkinson's Positive\n",
        "\n",
        "0 --> Healthy\n"
      ]
    },
    {
      "cell_type": "code",
      "execution_count": null,
      "metadata": {
        "colab": {
          "base_uri": "https://localhost:8080/",
          "height": 157
        },
        "id": "zUrPan7CFTMq",
        "outputId": "eec7e87b-eb34-46f7-e644-6a1536eeb036"
      },
      "outputs": [],
      "source": [
        "# grouping the data bas3ed on the target variable\n",
        "parkinsons_data.groupby('status').mean()"
      ]
    },
    {
      "cell_type": "markdown",
      "metadata": {
        "id": "8RY6c0waGSs7"
      },
      "source": [
        "Data Pre-Processing"
      ]
    },
    {
      "cell_type": "markdown",
      "metadata": {
        "id": "We7sRYu7Gc4q"
      },
      "source": [
        "Separating the features & Target"
      ]
    },
    {
      "cell_type": "code",
      "execution_count": null,
      "metadata": {
        "id": "UAcz8jFnFuzH"
      },
      "outputs": [],
      "source": [
        "X = parkinsons_data.drop(columns=['name','status'], axis=1)\n",
        "Y = parkinsons_data['status']"
      ]
    },
    {
      "cell_type": "code",
      "execution_count": null,
      "metadata": {
        "colab": {
          "base_uri": "https://localhost:8080/"
        },
        "id": "guRof_8WG1Yn",
        "outputId": "61c562ee-4886-4d7f-cdfe-052890d1eda8"
      },
      "outputs": [],
      "source": [
        "print(X)"
      ]
    },
    {
      "cell_type": "code",
      "execution_count": null,
      "metadata": {
        "colab": {
          "base_uri": "https://localhost:8080/"
        },
        "id": "xSNrvkJoG3cY",
        "outputId": "a9962d49-037d-495b-c934-809567955862"
      },
      "outputs": [],
      "source": [
        "print(Y)"
      ]
    },
    {
      "cell_type": "markdown",
      "metadata": {
        "id": "WDeqEaaHHBAS"
      },
      "source": [
        "Splitting the data to training data & Test data"
      ]
    },
    {
      "cell_type": "code",
      "execution_count": null,
      "metadata": {
        "id": "4c6nrCiVG6NB"
      },
      "outputs": [],
      "source": [
        "X_train, X_test, Y_train, Y_test = train_test_split(X, Y, test_size=0.2, random_state=2)"
      ]
    },
    {
      "cell_type": "code",
      "execution_count": null,
      "metadata": {
        "colab": {
          "base_uri": "https://localhost:8080/"
        },
        "id": "6OqUka96H35c",
        "outputId": "d770b48c-ebae-48c8-e637-9df61230c03c"
      },
      "outputs": [],
      "source": [
        "print(X.shape, X_train.shape, X_test.shape)"
      ]
    },
    {
      "cell_type": "markdown",
      "metadata": {
        "id": "ACsXtFTGIFU-"
      },
      "source": [
        "Data Standardization"
      ]
    },
    {
      "cell_type": "code",
      "execution_count": null,
      "metadata": {
        "id": "DbpeUHeUH-4A"
      },
      "outputs": [],
      "source": [
        "scaler = StandardScaler()"
      ]
    },
    {
      "cell_type": "code",
      "execution_count": null,
      "metadata": {
        "colab": {
          "base_uri": "https://localhost:8080/"
        },
        "id": "MVkVqUbhIdBs",
        "outputId": "bddcf5c3-842a-4f92-cc63-813e13ad3b5d"
      },
      "outputs": [],
      "source": [
        "scaler.fit(X_train)"
      ]
    },
    {
      "cell_type": "code",
      "execution_count": null,
      "metadata": {
        "id": "1FeONzpiInv5"
      },
      "outputs": [],
      "source": [
        "X_train = scaler.transform(X_train)\n",
        "\n",
        "X_test = scaler.transform(X_test)"
      ]
    },
    {
      "cell_type": "code",
      "execution_count": null,
      "metadata": {
        "colab": {
          "base_uri": "https://localhost:8080/"
        },
        "id": "OS2_4yaVJAiH",
        "outputId": "0c515226-8b53-4b03-928e-58edf30cc465"
      },
      "outputs": [],
      "source": [
        "print(X_train)"
      ]
    },
    {
      "cell_type": "markdown",
      "metadata": {
        "id": "QIOAtx35JUMg"
      },
      "source": [
        "Model Training"
      ]
    },
    {
      "cell_type": "markdown",
      "metadata": {
        "id": "fWlsaBNuJV5g"
      },
      "source": [
        "Support Vector Machine Model"
      ]
    },
    {
      "cell_type": "code",
      "execution_count": null,
      "metadata": {
        "id": "IDInA1u5JCZ9"
      },
      "outputs": [],
      "source": [
        "model = svm.SVC(kernel='linear')"
      ]
    },
    {
      "cell_type": "code",
      "execution_count": null,
      "metadata": {
        "colab": {
          "base_uri": "https://localhost:8080/"
        },
        "id": "F01DNpqWKmaW",
        "outputId": "7b78fa09-3465-4765-d508-eb379733db15"
      },
      "outputs": [],
      "source": [
        "# training the SVM model with training data\n",
        "model.fit(X_train, Y_train)"
      ]
    },
    {
      "cell_type": "markdown",
      "metadata": {
        "id": "1z_-nZfuLJrH"
      },
      "source": [
        "Model Evaluation"
      ]
    },
    {
      "cell_type": "markdown",
      "metadata": {
        "id": "Rj3XAnF8LMF4"
      },
      "source": [
        "Accuracy Score"
      ]
    },
    {
      "cell_type": "code",
      "execution_count": null,
      "metadata": {
        "id": "5LwxNgnqK1Za"
      },
      "outputs": [],
      "source": [
        "# accuracy score on training data\n",
        "X_train_prediction = model.predict(X_train)\n",
        "training_data_accuracy = accuracy_score(Y_train, X_train_prediction)"
      ]
    },
    {
      "cell_type": "code",
      "execution_count": null,
      "metadata": {
        "colab": {
          "base_uri": "https://localhost:8080/"
        },
        "id": "-dS9tcGdLm41",
        "outputId": "25767495-13bc-4040-c7ae-be89443cfe11"
      },
      "outputs": [],
      "source": [
        "print('Accuracy score of training data : ', training_data_accuracy)"
      ]
    },
    {
      "cell_type": "code",
      "execution_count": null,
      "metadata": {
        "id": "rNUO2uHmLtjY"
      },
      "outputs": [],
      "source": [
        "# accuracy score on training data\n",
        "X_test_prediction = model.predict(X_test)\n",
        "test_data_accuracy = accuracy_score(Y_test, X_test_prediction)"
      ]
    },
    {
      "cell_type": "code",
      "execution_count": null,
      "metadata": {
        "colab": {
          "base_uri": "https://localhost:8080/"
        },
        "id": "BsF3UnQ2L_aR",
        "outputId": "b6d0d040-949e-4a71-ad1f-e4a7ea6102db"
      },
      "outputs": [],
      "source": [
        "print('Accuracy score of test data : ', test_data_accuracy)"
      ]
    },
    {
      "cell_type": "markdown",
      "metadata": {
        "id": "QlR4JG4YMfOR"
      },
      "source": [
        "Building a Predictive System"
      ]
    },
    {
      "cell_type": "code",
      "execution_count": null,
      "metadata": {
        "colab": {
          "base_uri": "https://localhost:8080/"
        },
        "id": "w0FjSoO1MGBU",
        "outputId": "f2677b3a-c5c6-4719-b9ee-c361ec33dec9"
      },
      "outputs": [],
      "source": [
        "input_data = (197.07600,206.89600,192.05500,0.00289,0.00001,0.00166,0.00168,0.00498,0.01098,0.09700,0.00563,0.00680,0.00802,0.01689,0.00339,26.77500,0.422229,0.741367,-7.348300,0.177551,1.743867,0.085569)\n",
        "\n",
        "# changing input data to a numpy array\n",
        "input_data_as_numpy_array = np.asarray(input_data)\n",
        "\n",
        "# reshape the numpy array\n",
        "input_data_reshaped = input_data_as_numpy_array.reshape(1,-1)\n",
        "\n",
        "# standardize the data\n",
        "std_data = scaler.transform(input_data_reshaped)\n",
        "\n",
        "prediction = model.predict(std_data)\n",
        "print(prediction)\n",
        "\n",
        "\n",
        "if (prediction[0] == 0):\n",
        "  print(\"The Person does not have Parkinsons Disease\")\n",
        "\n",
        "else:\n",
        "  print(\"The Person has Parkinsons\")\n"
      ]
    }
  ],
  "metadata": {
    "colab": {
      "provenance": []
    },
    "kernelspec": {
      "display_name": "Python 3",
      "name": "python3"
    },
    "language_info": {
      "codemirror_mode": {
        "name": "ipython",
        "version": 3
      },
      "file_extension": ".py",
      "mimetype": "text/x-python",
      "name": "python",
      "nbconvert_exporter": "python",
      "pygments_lexer": "ipython3",
      "version": "3.13.9"
    }
  },
  "nbformat": 4,
  "nbformat_minor": 0
}
